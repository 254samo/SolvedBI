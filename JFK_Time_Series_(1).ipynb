{
  "nbformat": 4,
  "nbformat_minor": 0,
  "metadata": {
    "kernelspec": {
      "display_name": "Python 3",
      "language": "python",
      "name": "python3"
    },
    "language_info": {
      "codemirror_mode": {
        "name": "ipython",
        "version": 3
      },
      "file_extension": ".py",
      "mimetype": "text/x-python",
      "name": "python",
      "nbconvert_exporter": "python",
      "pygments_lexer": "ipython3",
      "version": "3.6.5"
    },
    "colab": {
      "name": "JFK Time Series (1).ipynb",
      "provenance": []
    }
  },
  "cells": [
    {
      "cell_type": "code",
      "metadata": {
        "id": "nmZ4qyvRMqFv",
        "colab_type": "code",
        "colab": {}
      },
      "source": [
        "import pandas as pd\n",
        "import numpy as np\n",
        "from datetime import datetime as dt"
      ],
      "execution_count": 1,
      "outputs": []
    },
    {
      "cell_type": "code",
      "metadata": {
        "id": "Q1gQPlbpMqF7",
        "colab_type": "code",
        "colab": {}
      },
      "source": [
        "url='https://raw.githubusercontent.com/254samo/SolvedBI/master/On_Time_Performance.csv'\n",
        "On_Time_Performance = pd.read_csv(url)"
      ],
      "execution_count": 2,
      "outputs": []
    },
    {
      "cell_type": "code",
      "metadata": {
        "id": "uB0eOl-IMqGE",
        "colab_type": "code",
        "colab": {
          "base_uri": "https://localhost:8080/",
          "height": 423
        },
        "outputId": "05346cf2-2026-4890-d199-a235ea5dd012"
      },
      "source": [
        "On_Time_Performance = On_Time_Performance[On_Time_Performance['Facility']=='JFK']\n",
        "On_Time_Performance = On_Time_Performance.reset_index()\n",
        "del On_Time_Performance['index']\n",
        "On_Time_Performance.head()"
      ],
      "execution_count": 3,
      "outputs": [
        {
          "output_type": "execute_result",
          "data": {
            "text/html": [
              "<div>\n",
              "<style scoped>\n",
              "    .dataframe tbody tr th:only-of-type {\n",
              "        vertical-align: middle;\n",
              "    }\n",
              "\n",
              "    .dataframe tbody tr th {\n",
              "        vertical-align: top;\n",
              "    }\n",
              "\n",
              "    .dataframe thead th {\n",
              "        text-align: right;\n",
              "    }\n",
              "</style>\n",
              "<table border=\"1\" class=\"dataframe\">\n",
              "  <thead>\n",
              "    <tr style=\"text-align: right;\">\n",
              "      <th></th>\n",
              "      <th>Facility</th>\n",
              "      <th>Date</th>\n",
              "      <th>Hour</th>\n",
              "      <th>Scheduled Departures</th>\n",
              "      <th>Scheduled Arrivals</th>\n",
              "      <th>Departures For Metric Computation</th>\n",
              "      <th>Arrivals For Metric Computation</th>\n",
              "      <th>% On-Time Gate Departures</th>\n",
              "      <th>% On-Time Airport Departures</th>\n",
              "      <th>% On-Time Gate Arrivals</th>\n",
              "      <th>Average Gate Departure Delay</th>\n",
              "      <th>Average Taxi Out Time</th>\n",
              "      <th>Average Taxi Out Delay</th>\n",
              "      <th>Average Airport Departure Delay</th>\n",
              "      <th>Average Airborne Delay</th>\n",
              "      <th>Average Taxi In Delay</th>\n",
              "      <th>Average Block Delay</th>\n",
              "      <th>Average Gate Arrival Delay</th>\n",
              "    </tr>\n",
              "  </thead>\n",
              "  <tbody>\n",
              "    <tr>\n",
              "      <th>0</th>\n",
              "      <td>JFK</td>\n",
              "      <td>2019-06-01 00:00:00</td>\n",
              "      <td>0.0</td>\n",
              "      <td>8.0</td>\n",
              "      <td>10.0</td>\n",
              "      <td>9.0</td>\n",
              "      <td>20.0</td>\n",
              "      <td>66.67</td>\n",
              "      <td>55.56</td>\n",
              "      <td>40.00</td>\n",
              "      <td>15.11</td>\n",
              "      <td>22.33</td>\n",
              "      <td>5.27</td>\n",
              "      <td>19.11</td>\n",
              "      <td>6.0</td>\n",
              "      <td>3.07</td>\n",
              "      <td>11.65</td>\n",
              "      <td>34.20</td>\n",
              "    </tr>\n",
              "    <tr>\n",
              "      <th>1</th>\n",
              "      <td>JFK</td>\n",
              "      <td>2019-06-01 00:00:00</td>\n",
              "      <td>1.0</td>\n",
              "      <td>8.0</td>\n",
              "      <td>3.0</td>\n",
              "      <td>8.0</td>\n",
              "      <td>6.0</td>\n",
              "      <td>75.00</td>\n",
              "      <td>62.50</td>\n",
              "      <td>66.67</td>\n",
              "      <td>9.38</td>\n",
              "      <td>21.38</td>\n",
              "      <td>4.75</td>\n",
              "      <td>12.50</td>\n",
              "      <td>7.0</td>\n",
              "      <td>4.35</td>\n",
              "      <td>12.00</td>\n",
              "      <td>17.83</td>\n",
              "    </tr>\n",
              "    <tr>\n",
              "      <th>2</th>\n",
              "      <td>JFK</td>\n",
              "      <td>2019-06-01 00:00:00</td>\n",
              "      <td>2.0</td>\n",
              "      <td>5.0</td>\n",
              "      <td>2.0</td>\n",
              "      <td>5.0</td>\n",
              "      <td>1.0</td>\n",
              "      <td>100.00</td>\n",
              "      <td>100.00</td>\n",
              "      <td>100.00</td>\n",
              "      <td>0.80</td>\n",
              "      <td>16.00</td>\n",
              "      <td>1.08</td>\n",
              "      <td>1.00</td>\n",
              "      <td>0.0</td>\n",
              "      <td>6.70</td>\n",
              "      <td>2.00</td>\n",
              "      <td>13.00</td>\n",
              "    </tr>\n",
              "    <tr>\n",
              "      <th>3</th>\n",
              "      <td>JFK</td>\n",
              "      <td>2019-06-01 00:00:00</td>\n",
              "      <td>3.0</td>\n",
              "      <td>2.0</td>\n",
              "      <td>3.0</td>\n",
              "      <td>0.0</td>\n",
              "      <td>2.0</td>\n",
              "      <td>0.00</td>\n",
              "      <td>0.00</td>\n",
              "      <td>50.00</td>\n",
              "      <td>0.00</td>\n",
              "      <td>0.00</td>\n",
              "      <td>0.00</td>\n",
              "      <td>0.00</td>\n",
              "      <td>6.0</td>\n",
              "      <td>5.70</td>\n",
              "      <td>3.00</td>\n",
              "      <td>33.00</td>\n",
              "    </tr>\n",
              "    <tr>\n",
              "      <th>4</th>\n",
              "      <td>JFK</td>\n",
              "      <td>2019-06-01 00:00:00</td>\n",
              "      <td>4.0</td>\n",
              "      <td>1.0</td>\n",
              "      <td>1.0</td>\n",
              "      <td>2.0</td>\n",
              "      <td>0.0</td>\n",
              "      <td>100.00</td>\n",
              "      <td>100.00</td>\n",
              "      <td>0.00</td>\n",
              "      <td>2.50</td>\n",
              "      <td>16.50</td>\n",
              "      <td>1.20</td>\n",
              "      <td>1.00</td>\n",
              "      <td>0.0</td>\n",
              "      <td>0.00</td>\n",
              "      <td>0.00</td>\n",
              "      <td>0.00</td>\n",
              "    </tr>\n",
              "  </tbody>\n",
              "</table>\n",
              "</div>"
            ],
            "text/plain": [
              "  Facility  ... Average Gate Arrival Delay\n",
              "0      JFK  ...                      34.20\n",
              "1      JFK  ...                      17.83\n",
              "2      JFK  ...                      13.00\n",
              "3      JFK  ...                      33.00\n",
              "4      JFK  ...                       0.00\n",
              "\n",
              "[5 rows x 18 columns]"
            ]
          },
          "metadata": {
            "tags": []
          },
          "execution_count": 3
        }
      ]
    },
    {
      "cell_type": "code",
      "metadata": {
        "id": "cspdtbk2MqGR",
        "colab_type": "code",
        "colab": {}
      },
      "source": [
        "On_Time_Performance['Date'] = pd.to_datetime(On_Time_Performance['Date'], errors='coerce')"
      ],
      "execution_count": 4,
      "outputs": []
    },
    {
      "cell_type": "code",
      "metadata": {
        "id": "SNYufk3lMqGY",
        "colab_type": "code",
        "colab": {
          "base_uri": "https://localhost:8080/",
          "height": 336
        },
        "outputId": "621013df-7603-4b24-9e2a-3f26d8046646"
      },
      "source": [
        "On_Time_Performance.head()"
      ],
      "execution_count": 5,
      "outputs": [
        {
          "output_type": "execute_result",
          "data": {
            "text/html": [
              "<div>\n",
              "<style scoped>\n",
              "    .dataframe tbody tr th:only-of-type {\n",
              "        vertical-align: middle;\n",
              "    }\n",
              "\n",
              "    .dataframe tbody tr th {\n",
              "        vertical-align: top;\n",
              "    }\n",
              "\n",
              "    .dataframe thead th {\n",
              "        text-align: right;\n",
              "    }\n",
              "</style>\n",
              "<table border=\"1\" class=\"dataframe\">\n",
              "  <thead>\n",
              "    <tr style=\"text-align: right;\">\n",
              "      <th></th>\n",
              "      <th>Facility</th>\n",
              "      <th>Date</th>\n",
              "      <th>Hour</th>\n",
              "      <th>Scheduled Departures</th>\n",
              "      <th>Scheduled Arrivals</th>\n",
              "      <th>Departures For Metric Computation</th>\n",
              "      <th>Arrivals For Metric Computation</th>\n",
              "      <th>% On-Time Gate Departures</th>\n",
              "      <th>% On-Time Airport Departures</th>\n",
              "      <th>% On-Time Gate Arrivals</th>\n",
              "      <th>Average Gate Departure Delay</th>\n",
              "      <th>Average Taxi Out Time</th>\n",
              "      <th>Average Taxi Out Delay</th>\n",
              "      <th>Average Airport Departure Delay</th>\n",
              "      <th>Average Airborne Delay</th>\n",
              "      <th>Average Taxi In Delay</th>\n",
              "      <th>Average Block Delay</th>\n",
              "      <th>Average Gate Arrival Delay</th>\n",
              "    </tr>\n",
              "  </thead>\n",
              "  <tbody>\n",
              "    <tr>\n",
              "      <th>0</th>\n",
              "      <td>JFK</td>\n",
              "      <td>2019-06-01</td>\n",
              "      <td>0.0</td>\n",
              "      <td>8.0</td>\n",
              "      <td>10.0</td>\n",
              "      <td>9.0</td>\n",
              "      <td>20.0</td>\n",
              "      <td>66.67</td>\n",
              "      <td>55.56</td>\n",
              "      <td>40.00</td>\n",
              "      <td>15.11</td>\n",
              "      <td>22.33</td>\n",
              "      <td>5.27</td>\n",
              "      <td>19.11</td>\n",
              "      <td>6.0</td>\n",
              "      <td>3.07</td>\n",
              "      <td>11.65</td>\n",
              "      <td>34.20</td>\n",
              "    </tr>\n",
              "    <tr>\n",
              "      <th>1</th>\n",
              "      <td>JFK</td>\n",
              "      <td>2019-06-01</td>\n",
              "      <td>1.0</td>\n",
              "      <td>8.0</td>\n",
              "      <td>3.0</td>\n",
              "      <td>8.0</td>\n",
              "      <td>6.0</td>\n",
              "      <td>75.00</td>\n",
              "      <td>62.50</td>\n",
              "      <td>66.67</td>\n",
              "      <td>9.38</td>\n",
              "      <td>21.38</td>\n",
              "      <td>4.75</td>\n",
              "      <td>12.50</td>\n",
              "      <td>7.0</td>\n",
              "      <td>4.35</td>\n",
              "      <td>12.00</td>\n",
              "      <td>17.83</td>\n",
              "    </tr>\n",
              "    <tr>\n",
              "      <th>2</th>\n",
              "      <td>JFK</td>\n",
              "      <td>2019-06-01</td>\n",
              "      <td>2.0</td>\n",
              "      <td>5.0</td>\n",
              "      <td>2.0</td>\n",
              "      <td>5.0</td>\n",
              "      <td>1.0</td>\n",
              "      <td>100.00</td>\n",
              "      <td>100.00</td>\n",
              "      <td>100.00</td>\n",
              "      <td>0.80</td>\n",
              "      <td>16.00</td>\n",
              "      <td>1.08</td>\n",
              "      <td>1.00</td>\n",
              "      <td>0.0</td>\n",
              "      <td>6.70</td>\n",
              "      <td>2.00</td>\n",
              "      <td>13.00</td>\n",
              "    </tr>\n",
              "    <tr>\n",
              "      <th>3</th>\n",
              "      <td>JFK</td>\n",
              "      <td>2019-06-01</td>\n",
              "      <td>3.0</td>\n",
              "      <td>2.0</td>\n",
              "      <td>3.0</td>\n",
              "      <td>0.0</td>\n",
              "      <td>2.0</td>\n",
              "      <td>0.00</td>\n",
              "      <td>0.00</td>\n",
              "      <td>50.00</td>\n",
              "      <td>0.00</td>\n",
              "      <td>0.00</td>\n",
              "      <td>0.00</td>\n",
              "      <td>0.00</td>\n",
              "      <td>6.0</td>\n",
              "      <td>5.70</td>\n",
              "      <td>3.00</td>\n",
              "      <td>33.00</td>\n",
              "    </tr>\n",
              "    <tr>\n",
              "      <th>4</th>\n",
              "      <td>JFK</td>\n",
              "      <td>2019-06-01</td>\n",
              "      <td>4.0</td>\n",
              "      <td>1.0</td>\n",
              "      <td>1.0</td>\n",
              "      <td>2.0</td>\n",
              "      <td>0.0</td>\n",
              "      <td>100.00</td>\n",
              "      <td>100.00</td>\n",
              "      <td>0.00</td>\n",
              "      <td>2.50</td>\n",
              "      <td>16.50</td>\n",
              "      <td>1.20</td>\n",
              "      <td>1.00</td>\n",
              "      <td>0.0</td>\n",
              "      <td>0.00</td>\n",
              "      <td>0.00</td>\n",
              "      <td>0.00</td>\n",
              "    </tr>\n",
              "  </tbody>\n",
              "</table>\n",
              "</div>"
            ],
            "text/plain": [
              "  Facility       Date  ...  Average Block Delay  Average Gate Arrival Delay\n",
              "0      JFK 2019-06-01  ...                11.65                       34.20\n",
              "1      JFK 2019-06-01  ...                12.00                       17.83\n",
              "2      JFK 2019-06-01  ...                 2.00                       13.00\n",
              "3      JFK 2019-06-01  ...                 3.00                       33.00\n",
              "4      JFK 2019-06-01  ...                 0.00                        0.00\n",
              "\n",
              "[5 rows x 18 columns]"
            ]
          },
          "metadata": {
            "tags": []
          },
          "execution_count": 5
        }
      ]
    },
    {
      "cell_type": "code",
      "metadata": {
        "id": "1gKPwzrsMqGg",
        "colab_type": "code",
        "colab": {
          "base_uri": "https://localhost:8080/",
          "height": 363
        },
        "outputId": "f21a89ed-d37b-46e3-e50b-746b09b19cea"
      },
      "source": [
        "On_Time_Performance.count()"
      ],
      "execution_count": 6,
      "outputs": [
        {
          "output_type": "execute_result",
          "data": {
            "text/plain": [
              "Facility                             2208\n",
              "Date                                 2208\n",
              "Hour                                 2208\n",
              "Scheduled Departures                 2208\n",
              "Scheduled Arrivals                   2208\n",
              "Departures For Metric Computation    2208\n",
              "Arrivals For Metric Computation      2208\n",
              "% On-Time Gate Departures            2208\n",
              "% On-Time Airport Departures         2208\n",
              "% On-Time Gate Arrivals              2208\n",
              "Average Gate Departure Delay         2208\n",
              "Average Taxi Out Time                2208\n",
              "Average Taxi Out Delay               2208\n",
              "Average Airport Departure Delay      2208\n",
              "Average Airborne Delay               2208\n",
              "Average Taxi In Delay                2208\n",
              "Average Block Delay                  2208\n",
              "Average Gate Arrival Delay           2208\n",
              "dtype: int64"
            ]
          },
          "metadata": {
            "tags": []
          },
          "execution_count": 6
        }
      ]
    },
    {
      "cell_type": "code",
      "metadata": {
        "id": "0cnqfv7PMqGn",
        "colab_type": "code",
        "colab": {}
      },
      "source": [
        "ts = On_Time_Performance.drop(['Facility', 'Departures For Metric Computation', 'Arrivals For Metric Computation', '% On-Time Gate Departures', '% On-Time Airport Departures', 'Average Gate Departure Delay','Average Airport Departure Delay','Average Gate Arrival Delay','Scheduled Departures', 'Scheduled Arrivals', 'Average Gate Departure Delay', 'Average Taxi Out Time', 'Average Taxi Out Delay', 'Average Airport Departure Delay', 'Average Airborne Delay', 'Average Taxi In Delay', 'Average Block Delay', 'Average Gate Arrival Delay'], axis=1)"
      ],
      "execution_count": 7,
      "outputs": []
    },
    {
      "cell_type": "code",
      "metadata": {
        "id": "PvmmUev2MqGv",
        "colab_type": "code",
        "colab": {
          "base_uri": "https://localhost:8080/",
          "height": 198
        },
        "outputId": "8bea8dd7-aa11-4586-a310-21d0fb2b8a97"
      },
      "source": [
        "ts.head()"
      ],
      "execution_count": 8,
      "outputs": [
        {
          "output_type": "execute_result",
          "data": {
            "text/html": [
              "<div>\n",
              "<style scoped>\n",
              "    .dataframe tbody tr th:only-of-type {\n",
              "        vertical-align: middle;\n",
              "    }\n",
              "\n",
              "    .dataframe tbody tr th {\n",
              "        vertical-align: top;\n",
              "    }\n",
              "\n",
              "    .dataframe thead th {\n",
              "        text-align: right;\n",
              "    }\n",
              "</style>\n",
              "<table border=\"1\" class=\"dataframe\">\n",
              "  <thead>\n",
              "    <tr style=\"text-align: right;\">\n",
              "      <th></th>\n",
              "      <th>Date</th>\n",
              "      <th>Hour</th>\n",
              "      <th>% On-Time Gate Arrivals</th>\n",
              "    </tr>\n",
              "  </thead>\n",
              "  <tbody>\n",
              "    <tr>\n",
              "      <th>0</th>\n",
              "      <td>2019-06-01</td>\n",
              "      <td>0.0</td>\n",
              "      <td>40.00</td>\n",
              "    </tr>\n",
              "    <tr>\n",
              "      <th>1</th>\n",
              "      <td>2019-06-01</td>\n",
              "      <td>1.0</td>\n",
              "      <td>66.67</td>\n",
              "    </tr>\n",
              "    <tr>\n",
              "      <th>2</th>\n",
              "      <td>2019-06-01</td>\n",
              "      <td>2.0</td>\n",
              "      <td>100.00</td>\n",
              "    </tr>\n",
              "    <tr>\n",
              "      <th>3</th>\n",
              "      <td>2019-06-01</td>\n",
              "      <td>3.0</td>\n",
              "      <td>50.00</td>\n",
              "    </tr>\n",
              "    <tr>\n",
              "      <th>4</th>\n",
              "      <td>2019-06-01</td>\n",
              "      <td>4.0</td>\n",
              "      <td>0.00</td>\n",
              "    </tr>\n",
              "  </tbody>\n",
              "</table>\n",
              "</div>"
            ],
            "text/plain": [
              "        Date  Hour  % On-Time Gate Arrivals\n",
              "0 2019-06-01   0.0                    40.00\n",
              "1 2019-06-01   1.0                    66.67\n",
              "2 2019-06-01   2.0                   100.00\n",
              "3 2019-06-01   3.0                    50.00\n",
              "4 2019-06-01   4.0                     0.00"
            ]
          },
          "metadata": {
            "tags": []
          },
          "execution_count": 8
        }
      ]
    },
    {
      "cell_type": "code",
      "metadata": {
        "id": "OyTh8gY2MqG2",
        "colab_type": "code",
        "colab": {}
      },
      "source": [
        "import matplotlib.pylab as plt"
      ],
      "execution_count": 9,
      "outputs": []
    },
    {
      "cell_type": "code",
      "metadata": {
        "id": "w2of3w8xMqG9",
        "colab_type": "code",
        "colab": {
          "base_uri": "https://localhost:8080/",
          "height": 1000
        },
        "outputId": "3b935dda-33ba-4a7d-b726-825bf8acc96e"
      },
      "source": [
        "from datetime import datetime, timedelta\n",
        "for i in ts.index: \n",
        "    ts['Date'][i] = ts['Date'][i] + timedelta(hours=ts['Hour'][i])\n",
        "ts.head(50)"
      ],
      "execution_count": 10,
      "outputs": [
        {
          "output_type": "stream",
          "text": [
            "/usr/local/lib/python3.6/dist-packages/ipykernel_launcher.py:3: SettingWithCopyWarning: \n",
            "A value is trying to be set on a copy of a slice from a DataFrame\n",
            "\n",
            "See the caveats in the documentation: https://pandas.pydata.org/pandas-docs/stable/user_guide/indexing.html#returning-a-view-versus-a-copy\n",
            "  This is separate from the ipykernel package so we can avoid doing imports until\n"
          ],
          "name": "stderr"
        },
        {
          "output_type": "execute_result",
          "data": {
            "text/html": [
              "<div>\n",
              "<style scoped>\n",
              "    .dataframe tbody tr th:only-of-type {\n",
              "        vertical-align: middle;\n",
              "    }\n",
              "\n",
              "    .dataframe tbody tr th {\n",
              "        vertical-align: top;\n",
              "    }\n",
              "\n",
              "    .dataframe thead th {\n",
              "        text-align: right;\n",
              "    }\n",
              "</style>\n",
              "<table border=\"1\" class=\"dataframe\">\n",
              "  <thead>\n",
              "    <tr style=\"text-align: right;\">\n",
              "      <th></th>\n",
              "      <th>Date</th>\n",
              "      <th>Hour</th>\n",
              "      <th>% On-Time Gate Arrivals</th>\n",
              "    </tr>\n",
              "  </thead>\n",
              "  <tbody>\n",
              "    <tr>\n",
              "      <th>0</th>\n",
              "      <td>2019-06-01 00:00:00</td>\n",
              "      <td>0.0</td>\n",
              "      <td>40.00</td>\n",
              "    </tr>\n",
              "    <tr>\n",
              "      <th>1</th>\n",
              "      <td>2019-06-01 01:00:00</td>\n",
              "      <td>1.0</td>\n",
              "      <td>66.67</td>\n",
              "    </tr>\n",
              "    <tr>\n",
              "      <th>2</th>\n",
              "      <td>2019-06-01 02:00:00</td>\n",
              "      <td>2.0</td>\n",
              "      <td>100.00</td>\n",
              "    </tr>\n",
              "    <tr>\n",
              "      <th>3</th>\n",
              "      <td>2019-06-01 03:00:00</td>\n",
              "      <td>3.0</td>\n",
              "      <td>50.00</td>\n",
              "    </tr>\n",
              "    <tr>\n",
              "      <th>4</th>\n",
              "      <td>2019-06-01 04:00:00</td>\n",
              "      <td>4.0</td>\n",
              "      <td>0.00</td>\n",
              "    </tr>\n",
              "    <tr>\n",
              "      <th>5</th>\n",
              "      <td>2019-06-01 05:00:00</td>\n",
              "      <td>5.0</td>\n",
              "      <td>80.95</td>\n",
              "    </tr>\n",
              "    <tr>\n",
              "      <th>6</th>\n",
              "      <td>2019-06-01 06:00:00</td>\n",
              "      <td>6.0</td>\n",
              "      <td>80.00</td>\n",
              "    </tr>\n",
              "    <tr>\n",
              "      <th>7</th>\n",
              "      <td>2019-06-01 07:00:00</td>\n",
              "      <td>7.0</td>\n",
              "      <td>80.00</td>\n",
              "    </tr>\n",
              "    <tr>\n",
              "      <th>8</th>\n",
              "      <td>2019-06-01 08:00:00</td>\n",
              "      <td>8.0</td>\n",
              "      <td>76.92</td>\n",
              "    </tr>\n",
              "    <tr>\n",
              "      <th>9</th>\n",
              "      <td>2019-06-01 09:00:00</td>\n",
              "      <td>9.0</td>\n",
              "      <td>80.00</td>\n",
              "    </tr>\n",
              "    <tr>\n",
              "      <th>10</th>\n",
              "      <td>2019-06-01 10:00:00</td>\n",
              "      <td>10.0</td>\n",
              "      <td>84.00</td>\n",
              "    </tr>\n",
              "    <tr>\n",
              "      <th>11</th>\n",
              "      <td>2019-06-01 11:00:00</td>\n",
              "      <td>11.0</td>\n",
              "      <td>88.89</td>\n",
              "    </tr>\n",
              "    <tr>\n",
              "      <th>12</th>\n",
              "      <td>2019-06-01 12:00:00</td>\n",
              "      <td>12.0</td>\n",
              "      <td>93.55</td>\n",
              "    </tr>\n",
              "    <tr>\n",
              "      <th>13</th>\n",
              "      <td>2019-06-01 13:00:00</td>\n",
              "      <td>13.0</td>\n",
              "      <td>80.00</td>\n",
              "    </tr>\n",
              "    <tr>\n",
              "      <th>14</th>\n",
              "      <td>2019-06-01 14:00:00</td>\n",
              "      <td>14.0</td>\n",
              "      <td>82.93</td>\n",
              "    </tr>\n",
              "    <tr>\n",
              "      <th>15</th>\n",
              "      <td>2019-06-01 15:00:00</td>\n",
              "      <td>15.0</td>\n",
              "      <td>73.17</td>\n",
              "    </tr>\n",
              "    <tr>\n",
              "      <th>16</th>\n",
              "      <td>2019-06-01 16:00:00</td>\n",
              "      <td>16.0</td>\n",
              "      <td>78.79</td>\n",
              "    </tr>\n",
              "    <tr>\n",
              "      <th>17</th>\n",
              "      <td>2019-06-01 17:00:00</td>\n",
              "      <td>17.0</td>\n",
              "      <td>67.74</td>\n",
              "    </tr>\n",
              "    <tr>\n",
              "      <th>18</th>\n",
              "      <td>2019-06-01 18:00:00</td>\n",
              "      <td>18.0</td>\n",
              "      <td>65.79</td>\n",
              "    </tr>\n",
              "    <tr>\n",
              "      <th>19</th>\n",
              "      <td>2019-06-01 19:00:00</td>\n",
              "      <td>19.0</td>\n",
              "      <td>71.43</td>\n",
              "    </tr>\n",
              "    <tr>\n",
              "      <th>20</th>\n",
              "      <td>2019-06-01 20:00:00</td>\n",
              "      <td>20.0</td>\n",
              "      <td>54.29</td>\n",
              "    </tr>\n",
              "    <tr>\n",
              "      <th>21</th>\n",
              "      <td>2019-06-01 21:00:00</td>\n",
              "      <td>21.0</td>\n",
              "      <td>67.86</td>\n",
              "    </tr>\n",
              "    <tr>\n",
              "      <th>22</th>\n",
              "      <td>2019-06-01 22:00:00</td>\n",
              "      <td>22.0</td>\n",
              "      <td>71.88</td>\n",
              "    </tr>\n",
              "    <tr>\n",
              "      <th>23</th>\n",
              "      <td>2019-06-01 23:00:00</td>\n",
              "      <td>23.0</td>\n",
              "      <td>57.14</td>\n",
              "    </tr>\n",
              "    <tr>\n",
              "      <th>24</th>\n",
              "      <td>2019-06-02 00:00:00</td>\n",
              "      <td>0.0</td>\n",
              "      <td>50.00</td>\n",
              "    </tr>\n",
              "    <tr>\n",
              "      <th>25</th>\n",
              "      <td>2019-06-02 01:00:00</td>\n",
              "      <td>1.0</td>\n",
              "      <td>50.00</td>\n",
              "    </tr>\n",
              "    <tr>\n",
              "      <th>26</th>\n",
              "      <td>2019-06-02 02:00:00</td>\n",
              "      <td>2.0</td>\n",
              "      <td>50.00</td>\n",
              "    </tr>\n",
              "    <tr>\n",
              "      <th>27</th>\n",
              "      <td>2019-06-02 03:00:00</td>\n",
              "      <td>3.0</td>\n",
              "      <td>0.00</td>\n",
              "    </tr>\n",
              "    <tr>\n",
              "      <th>28</th>\n",
              "      <td>2019-06-02 04:00:00</td>\n",
              "      <td>4.0</td>\n",
              "      <td>100.00</td>\n",
              "    </tr>\n",
              "    <tr>\n",
              "      <th>29</th>\n",
              "      <td>2019-06-02 05:00:00</td>\n",
              "      <td>5.0</td>\n",
              "      <td>85.71</td>\n",
              "    </tr>\n",
              "    <tr>\n",
              "      <th>30</th>\n",
              "      <td>2019-06-02 06:00:00</td>\n",
              "      <td>6.0</td>\n",
              "      <td>86.96</td>\n",
              "    </tr>\n",
              "    <tr>\n",
              "      <th>31</th>\n",
              "      <td>2019-06-02 07:00:00</td>\n",
              "      <td>7.0</td>\n",
              "      <td>96.00</td>\n",
              "    </tr>\n",
              "    <tr>\n",
              "      <th>32</th>\n",
              "      <td>2019-06-02 08:00:00</td>\n",
              "      <td>8.0</td>\n",
              "      <td>84.62</td>\n",
              "    </tr>\n",
              "    <tr>\n",
              "      <th>33</th>\n",
              "      <td>2019-06-02 09:00:00</td>\n",
              "      <td>9.0</td>\n",
              "      <td>85.71</td>\n",
              "    </tr>\n",
              "    <tr>\n",
              "      <th>34</th>\n",
              "      <td>2019-06-02 10:00:00</td>\n",
              "      <td>10.0</td>\n",
              "      <td>96.15</td>\n",
              "    </tr>\n",
              "    <tr>\n",
              "      <th>35</th>\n",
              "      <td>2019-06-02 11:00:00</td>\n",
              "      <td>11.0</td>\n",
              "      <td>84.21</td>\n",
              "    </tr>\n",
              "    <tr>\n",
              "      <th>36</th>\n",
              "      <td>2019-06-02 12:00:00</td>\n",
              "      <td>12.0</td>\n",
              "      <td>88.57</td>\n",
              "    </tr>\n",
              "    <tr>\n",
              "      <th>37</th>\n",
              "      <td>2019-06-02 13:00:00</td>\n",
              "      <td>13.0</td>\n",
              "      <td>78.05</td>\n",
              "    </tr>\n",
              "    <tr>\n",
              "      <th>38</th>\n",
              "      <td>2019-06-02 14:00:00</td>\n",
              "      <td>14.0</td>\n",
              "      <td>81.40</td>\n",
              "    </tr>\n",
              "    <tr>\n",
              "      <th>39</th>\n",
              "      <td>2019-06-02 15:00:00</td>\n",
              "      <td>15.0</td>\n",
              "      <td>76.19</td>\n",
              "    </tr>\n",
              "    <tr>\n",
              "      <th>40</th>\n",
              "      <td>2019-06-02 16:00:00</td>\n",
              "      <td>16.0</td>\n",
              "      <td>76.47</td>\n",
              "    </tr>\n",
              "    <tr>\n",
              "      <th>41</th>\n",
              "      <td>2019-06-02 17:00:00</td>\n",
              "      <td>17.0</td>\n",
              "      <td>60.00</td>\n",
              "    </tr>\n",
              "    <tr>\n",
              "      <th>42</th>\n",
              "      <td>2019-06-02 18:00:00</td>\n",
              "      <td>18.0</td>\n",
              "      <td>23.68</td>\n",
              "    </tr>\n",
              "    <tr>\n",
              "      <th>43</th>\n",
              "      <td>2019-06-02 19:00:00</td>\n",
              "      <td>19.0</td>\n",
              "      <td>51.85</td>\n",
              "    </tr>\n",
              "    <tr>\n",
              "      <th>44</th>\n",
              "      <td>2019-06-02 20:00:00</td>\n",
              "      <td>20.0</td>\n",
              "      <td>29.27</td>\n",
              "    </tr>\n",
              "    <tr>\n",
              "      <th>45</th>\n",
              "      <td>2019-06-02 21:00:00</td>\n",
              "      <td>21.0</td>\n",
              "      <td>16.13</td>\n",
              "    </tr>\n",
              "    <tr>\n",
              "      <th>46</th>\n",
              "      <td>2019-06-02 22:00:00</td>\n",
              "      <td>22.0</td>\n",
              "      <td>11.43</td>\n",
              "    </tr>\n",
              "    <tr>\n",
              "      <th>47</th>\n",
              "      <td>2019-06-02 23:00:00</td>\n",
              "      <td>23.0</td>\n",
              "      <td>0.00</td>\n",
              "    </tr>\n",
              "    <tr>\n",
              "      <th>48</th>\n",
              "      <td>2019-06-03 00:00:00</td>\n",
              "      <td>0.0</td>\n",
              "      <td>22.22</td>\n",
              "    </tr>\n",
              "    <tr>\n",
              "      <th>49</th>\n",
              "      <td>2019-06-03 01:00:00</td>\n",
              "      <td>1.0</td>\n",
              "      <td>28.57</td>\n",
              "    </tr>\n",
              "  </tbody>\n",
              "</table>\n",
              "</div>"
            ],
            "text/plain": [
              "                  Date  Hour  % On-Time Gate Arrivals\n",
              "0  2019-06-01 00:00:00   0.0                    40.00\n",
              "1  2019-06-01 01:00:00   1.0                    66.67\n",
              "2  2019-06-01 02:00:00   2.0                   100.00\n",
              "3  2019-06-01 03:00:00   3.0                    50.00\n",
              "4  2019-06-01 04:00:00   4.0                     0.00\n",
              "5  2019-06-01 05:00:00   5.0                    80.95\n",
              "6  2019-06-01 06:00:00   6.0                    80.00\n",
              "7  2019-06-01 07:00:00   7.0                    80.00\n",
              "8  2019-06-01 08:00:00   8.0                    76.92\n",
              "9  2019-06-01 09:00:00   9.0                    80.00\n",
              "10 2019-06-01 10:00:00  10.0                    84.00\n",
              "11 2019-06-01 11:00:00  11.0                    88.89\n",
              "12 2019-06-01 12:00:00  12.0                    93.55\n",
              "13 2019-06-01 13:00:00  13.0                    80.00\n",
              "14 2019-06-01 14:00:00  14.0                    82.93\n",
              "15 2019-06-01 15:00:00  15.0                    73.17\n",
              "16 2019-06-01 16:00:00  16.0                    78.79\n",
              "17 2019-06-01 17:00:00  17.0                    67.74\n",
              "18 2019-06-01 18:00:00  18.0                    65.79\n",
              "19 2019-06-01 19:00:00  19.0                    71.43\n",
              "20 2019-06-01 20:00:00  20.0                    54.29\n",
              "21 2019-06-01 21:00:00  21.0                    67.86\n",
              "22 2019-06-01 22:00:00  22.0                    71.88\n",
              "23 2019-06-01 23:00:00  23.0                    57.14\n",
              "24 2019-06-02 00:00:00   0.0                    50.00\n",
              "25 2019-06-02 01:00:00   1.0                    50.00\n",
              "26 2019-06-02 02:00:00   2.0                    50.00\n",
              "27 2019-06-02 03:00:00   3.0                     0.00\n",
              "28 2019-06-02 04:00:00   4.0                   100.00\n",
              "29 2019-06-02 05:00:00   5.0                    85.71\n",
              "30 2019-06-02 06:00:00   6.0                    86.96\n",
              "31 2019-06-02 07:00:00   7.0                    96.00\n",
              "32 2019-06-02 08:00:00   8.0                    84.62\n",
              "33 2019-06-02 09:00:00   9.0                    85.71\n",
              "34 2019-06-02 10:00:00  10.0                    96.15\n",
              "35 2019-06-02 11:00:00  11.0                    84.21\n",
              "36 2019-06-02 12:00:00  12.0                    88.57\n",
              "37 2019-06-02 13:00:00  13.0                    78.05\n",
              "38 2019-06-02 14:00:00  14.0                    81.40\n",
              "39 2019-06-02 15:00:00  15.0                    76.19\n",
              "40 2019-06-02 16:00:00  16.0                    76.47\n",
              "41 2019-06-02 17:00:00  17.0                    60.00\n",
              "42 2019-06-02 18:00:00  18.0                    23.68\n",
              "43 2019-06-02 19:00:00  19.0                    51.85\n",
              "44 2019-06-02 20:00:00  20.0                    29.27\n",
              "45 2019-06-02 21:00:00  21.0                    16.13\n",
              "46 2019-06-02 22:00:00  22.0                    11.43\n",
              "47 2019-06-02 23:00:00  23.0                     0.00\n",
              "48 2019-06-03 00:00:00   0.0                    22.22\n",
              "49 2019-06-03 01:00:00   1.0                    28.57"
            ]
          },
          "metadata": {
            "tags": []
          },
          "execution_count": 10
        }
      ]
    },
    {
      "cell_type": "code",
      "metadata": {
        "id": "EampFRo3MqHD",
        "colab_type": "code",
        "colab": {
          "base_uri": "https://localhost:8080/",
          "height": 198
        },
        "outputId": "6bb86da9-2f19-49fe-c88e-7cdfbabc0074"
      },
      "source": [
        "ts = ts.drop('Hour', 1)\n",
        "ts.head()"
      ],
      "execution_count": 11,
      "outputs": [
        {
          "output_type": "execute_result",
          "data": {
            "text/html": [
              "<div>\n",
              "<style scoped>\n",
              "    .dataframe tbody tr th:only-of-type {\n",
              "        vertical-align: middle;\n",
              "    }\n",
              "\n",
              "    .dataframe tbody tr th {\n",
              "        vertical-align: top;\n",
              "    }\n",
              "\n",
              "    .dataframe thead th {\n",
              "        text-align: right;\n",
              "    }\n",
              "</style>\n",
              "<table border=\"1\" class=\"dataframe\">\n",
              "  <thead>\n",
              "    <tr style=\"text-align: right;\">\n",
              "      <th></th>\n",
              "      <th>Date</th>\n",
              "      <th>% On-Time Gate Arrivals</th>\n",
              "    </tr>\n",
              "  </thead>\n",
              "  <tbody>\n",
              "    <tr>\n",
              "      <th>0</th>\n",
              "      <td>2019-06-01 00:00:00</td>\n",
              "      <td>40.00</td>\n",
              "    </tr>\n",
              "    <tr>\n",
              "      <th>1</th>\n",
              "      <td>2019-06-01 01:00:00</td>\n",
              "      <td>66.67</td>\n",
              "    </tr>\n",
              "    <tr>\n",
              "      <th>2</th>\n",
              "      <td>2019-06-01 02:00:00</td>\n",
              "      <td>100.00</td>\n",
              "    </tr>\n",
              "    <tr>\n",
              "      <th>3</th>\n",
              "      <td>2019-06-01 03:00:00</td>\n",
              "      <td>50.00</td>\n",
              "    </tr>\n",
              "    <tr>\n",
              "      <th>4</th>\n",
              "      <td>2019-06-01 04:00:00</td>\n",
              "      <td>0.00</td>\n",
              "    </tr>\n",
              "  </tbody>\n",
              "</table>\n",
              "</div>"
            ],
            "text/plain": [
              "                 Date  % On-Time Gate Arrivals\n",
              "0 2019-06-01 00:00:00                    40.00\n",
              "1 2019-06-01 01:00:00                    66.67\n",
              "2 2019-06-01 02:00:00                   100.00\n",
              "3 2019-06-01 03:00:00                    50.00\n",
              "4 2019-06-01 04:00:00                     0.00"
            ]
          },
          "metadata": {
            "tags": []
          },
          "execution_count": 11
        }
      ]
    },
    {
      "cell_type": "code",
      "metadata": {
        "id": "M6VAynKpMqHL",
        "colab_type": "code",
        "colab": {
          "base_uri": "https://localhost:8080/",
          "height": 228
        },
        "outputId": "8fc6d925-74c3-46fa-e3da-8375a2933fe2"
      },
      "source": [
        "ts.set_index('Date', inplace=True)\n",
        "ts.head()"
      ],
      "execution_count": 12,
      "outputs": [
        {
          "output_type": "execute_result",
          "data": {
            "text/html": [
              "<div>\n",
              "<style scoped>\n",
              "    .dataframe tbody tr th:only-of-type {\n",
              "        vertical-align: middle;\n",
              "    }\n",
              "\n",
              "    .dataframe tbody tr th {\n",
              "        vertical-align: top;\n",
              "    }\n",
              "\n",
              "    .dataframe thead th {\n",
              "        text-align: right;\n",
              "    }\n",
              "</style>\n",
              "<table border=\"1\" class=\"dataframe\">\n",
              "  <thead>\n",
              "    <tr style=\"text-align: right;\">\n",
              "      <th></th>\n",
              "      <th>% On-Time Gate Arrivals</th>\n",
              "    </tr>\n",
              "    <tr>\n",
              "      <th>Date</th>\n",
              "      <th></th>\n",
              "    </tr>\n",
              "  </thead>\n",
              "  <tbody>\n",
              "    <tr>\n",
              "      <th>2019-06-01 00:00:00</th>\n",
              "      <td>40.00</td>\n",
              "    </tr>\n",
              "    <tr>\n",
              "      <th>2019-06-01 01:00:00</th>\n",
              "      <td>66.67</td>\n",
              "    </tr>\n",
              "    <tr>\n",
              "      <th>2019-06-01 02:00:00</th>\n",
              "      <td>100.00</td>\n",
              "    </tr>\n",
              "    <tr>\n",
              "      <th>2019-06-01 03:00:00</th>\n",
              "      <td>50.00</td>\n",
              "    </tr>\n",
              "    <tr>\n",
              "      <th>2019-06-01 04:00:00</th>\n",
              "      <td>0.00</td>\n",
              "    </tr>\n",
              "  </tbody>\n",
              "</table>\n",
              "</div>"
            ],
            "text/plain": [
              "                     % On-Time Gate Arrivals\n",
              "Date                                        \n",
              "2019-06-01 00:00:00                    40.00\n",
              "2019-06-01 01:00:00                    66.67\n",
              "2019-06-01 02:00:00                   100.00\n",
              "2019-06-01 03:00:00                    50.00\n",
              "2019-06-01 04:00:00                     0.00"
            ]
          },
          "metadata": {
            "tags": []
          },
          "execution_count": 12
        }
      ]
    },
    {
      "cell_type": "code",
      "metadata": {
        "id": "QBxV6wB2MqHR",
        "colab_type": "code",
        "colab": {
          "base_uri": "https://localhost:8080/",
          "height": 283
        },
        "outputId": "7e882044-c10a-4e59-c631-07713ae63d0b"
      },
      "source": [
        "plt.plot(ts)"
      ],
      "execution_count": 13,
      "outputs": [
        {
          "output_type": "execute_result",
          "data": {
            "text/plain": [
              "[<matplotlib.lines.Line2D at 0x7f1d011eddd8>]"
            ]
          },
          "metadata": {
            "tags": []
          },
          "execution_count": 13
        },
        {
          "output_type": "display_data",
          "data": {
            "image/png": "[encoded data removed]",
            "text/plain": [
              "<Figure size 432x288 with 1 Axes>"
            ]
          },
          "metadata": {
            "tags": [],
            "needs_background": "light"
          }
        }
      ]
    },
    {
      "cell_type": "code",
      "metadata": {
        "id": "s9esFNPeMqHX",
        "colab_type": "code",
        "colab": {
          "base_uri": "https://localhost:8080/",
          "height": 54
        },
        "outputId": "b0f34c78-1cd0-4af3-e2c7-94e856655881"
      },
      "source": [
        "from statsmodels.tsa.stattools import adfuller\n",
        "\n",
        "def test_stationarity(timeseries):\n",
        "    \n",
        "    #Determing rolling statistics\n",
        "    rolmean = pd.Series.rolling(timeseries, window=100).mean()\n",
        "    rolstd = pd.Series.rolling(timeseries, window=100).std()\n",
        "    \n",
        "    #Plot rolling statistics:\n",
        "    plt.plot(timeseries, color='blue',label='Original')\n",
        "    plt.plot(rolmean, color='red', label='Rolling Mean')\n",
        "    plt.plot(rolstd, color='black', label = 'Rolling Std')\n",
        "    plt.legend(loc='best')\n",
        "    plt.title('Rolling Mean & Standard Deviation')\n",
        "    plt.show()   "
      ],
      "execution_count": 14,
      "outputs": [
        {
          "output_type": "stream",
          "text": [
            "/usr/local/lib/python3.6/dist-packages/statsmodels/tools/_testing.py:19: FutureWarning: pandas.util.testing is deprecated. Use the functions in the public API at pandas.testing instead.\n",
            "  import pandas.util.testing as tm\n"
          ],
          "name": "stderr"
        }
      ]
    },
    {
      "cell_type": "code",
      "metadata": {
        "id": "7M1qWjNAMqHd",
        "colab_type": "code",
        "colab": {
          "base_uri": "https://localhost:8080/",
          "height": 281
        },
        "outputId": "5fe2b540-19d1-439a-d0f6-ea6eb740345f"
      },
      "source": [
        "test_stationarity(ts)"
      ],
      "execution_count": 15,
      "outputs": [
        {
          "output_type": "display_data",
          "data": {
            "image/png": "[encoded data removed]",
            "text/plain": [
              "<Figure size 432x288 with 1 Axes>"
            ]
          },
          "metadata": {
            "tags": [],
            "needs_background": "light"
          }
        }
      ]
    },
    {
      "cell_type": "code",
      "metadata": {
        "id": "oQzeT9IgMqHk",
        "colab_type": "code",
        "colab": {
          "base_uri": "https://localhost:8080/",
          "height": 319
        },
        "outputId": "e3d4c9b6-54f1-4be1-a3bf-19ba20fd4d1c"
      },
      "source": [
        "ts_log=np.log(ts)\n",
        "plt.plot(ts_log)"
      ],
      "execution_count": 16,
      "outputs": [
        {
          "output_type": "stream",
          "text": [
            "/usr/local/lib/python3.6/dist-packages/ipykernel_launcher.py:1: RuntimeWarning: divide by zero encountered in log\n",
            "  \"\"\"Entry point for launching an IPython kernel.\n"
          ],
          "name": "stderr"
        },
        {
          "output_type": "execute_result",
          "data": {
            "text/plain": [
              "[<matplotlib.lines.Line2D at 0x7f1cf6094c18>]"
            ]
          },
          "metadata": {
            "tags": []
          },
          "execution_count": 16
        },
        {
          "output_type": "display_data",
          "data": {
            "image/png": "[encoded data removed]",
            "text/plain": [
              "<Figure size 432x288 with 1 Axes>"
            ]
          },
          "metadata": {
            "tags": [],
            "needs_background": "light"
          }
        }
      ]
    },
    {
      "cell_type": "code",
      "metadata": {
        "id": "CDwcWszYMqHr",
        "colab_type": "code",
        "colab": {}
      },
      "source": [
        "moving_avg=pd.Series.rolling(ts_log, 12).mean()"
      ],
      "execution_count": 17,
      "outputs": []
    },
    {
      "cell_type": "code",
      "metadata": {
        "id": "HEoYJf9dMqHx",
        "colab_type": "code",
        "colab": {
          "base_uri": "https://localhost:8080/",
          "height": 283
        },
        "outputId": "028d5fce-51dd-4766-950a-00f5a3ae1a51"
      },
      "source": [
        "plt.plot(ts_log)\n",
        "\n",
        "plt.plot(moving_avg, color='red')"
      ],
      "execution_count": 18,
      "outputs": [
        {
          "output_type": "execute_result",
          "data": {
            "text/plain": [
              "[<matplotlib.lines.Line2D at 0x7f1cf6050da0>]"
            ]
          },
          "metadata": {
            "tags": []
          },
          "execution_count": 18
        },
        {
          "output_type": "display_data",
          "data": {
            "image/png": "[encoded data removed]",
            "text/plain": [
              "<Figure size 432x288 with 1 Axes>"
            ]
          },
          "metadata": {
            "tags": [],
            "needs_background": "light"
          }
        }
      ]
    },
    {
      "cell_type": "code",
      "metadata": {
        "id": "l-tMdCTSMqH5",
        "colab_type": "code",
        "colab": {
          "base_uri": "https://localhost:8080/",
          "height": 438
        },
        "outputId": "d74a2181-2841-42fc-c510-860a78b2d1a7"
      },
      "source": [
        "# Subtract the rolling mean from the original series\n",
        "\n",
        "ts_log_moving_avg_diff=ts_log - moving_avg\n",
        "ts_log_moving_avg_diff.head(12)"
      ],
      "execution_count": 19,
      "outputs": [
        {
          "output_type": "execute_result",
          "data": {
            "text/html": [
              "<div>\n",
              "<style scoped>\n",
              "    .dataframe tbody tr th:only-of-type {\n",
              "        vertical-align: middle;\n",
              "    }\n",
              "\n",
              "    .dataframe tbody tr th {\n",
              "        vertical-align: top;\n",
              "    }\n",
              "\n",
              "    .dataframe thead th {\n",
              "        text-align: right;\n",
              "    }\n",
              "</style>\n",
              "<table border=\"1\" class=\"dataframe\">\n",
              "  <thead>\n",
              "    <tr style=\"text-align: right;\">\n",
              "      <th></th>\n",
              "      <th>% On-Time Gate Arrivals</th>\n",
              "    </tr>\n",
              "    <tr>\n",
              "      <th>Date</th>\n",
              "      <th></th>\n",
              "    </tr>\n",
              "  </thead>\n",
              "  <tbody>\n",
              "    <tr>\n",
              "      <th>2019-06-01 00:00:00</th>\n",
              "      <td>NaN</td>\n",
              "    </tr>\n",
              "    <tr>\n",
              "      <th>2019-06-01 01:00:00</th>\n",
              "      <td>NaN</td>\n",
              "    </tr>\n",
              "    <tr>\n",
              "      <th>2019-06-01 02:00:00</th>\n",
              "      <td>NaN</td>\n",
              "    </tr>\n",
              "    <tr>\n",
              "      <th>2019-06-01 03:00:00</th>\n",
              "      <td>NaN</td>\n",
              "    </tr>\n",
              "    <tr>\n",
              "      <th>2019-06-01 04:00:00</th>\n",
              "      <td>NaN</td>\n",
              "    </tr>\n",
              "    <tr>\n",
              "      <th>2019-06-01 05:00:00</th>\n",
              "      <td>NaN</td>\n",
              "    </tr>\n",
              "    <tr>\n",
              "      <th>2019-06-01 06:00:00</th>\n",
              "      <td>NaN</td>\n",
              "    </tr>\n",
              "    <tr>\n",
              "      <th>2019-06-01 07:00:00</th>\n",
              "      <td>NaN</td>\n",
              "    </tr>\n",
              "    <tr>\n",
              "      <th>2019-06-01 08:00:00</th>\n",
              "      <td>NaN</td>\n",
              "    </tr>\n",
              "    <tr>\n",
              "      <th>2019-06-01 09:00:00</th>\n",
              "      <td>NaN</td>\n",
              "    </tr>\n",
              "    <tr>\n",
              "      <th>2019-06-01 10:00:00</th>\n",
              "      <td>NaN</td>\n",
              "    </tr>\n",
              "    <tr>\n",
              "      <th>2019-06-01 11:00:00</th>\n",
              "      <td>NaN</td>\n",
              "    </tr>\n",
              "  </tbody>\n",
              "</table>\n",
              "</div>"
            ],
            "text/plain": [
              "                     % On-Time Gate Arrivals\n",
              "Date                                        \n",
              "2019-06-01 00:00:00                      NaN\n",
              "2019-06-01 01:00:00                      NaN\n",
              "2019-06-01 02:00:00                      NaN\n",
              "2019-06-01 03:00:00                      NaN\n",
              "2019-06-01 04:00:00                      NaN\n",
              "2019-06-01 05:00:00                      NaN\n",
              "2019-06-01 06:00:00                      NaN\n",
              "2019-06-01 07:00:00                      NaN\n",
              "2019-06-01 08:00:00                      NaN\n",
              "2019-06-01 09:00:00                      NaN\n",
              "2019-06-01 10:00:00                      NaN\n",
              "2019-06-01 11:00:00                      NaN"
            ]
          },
          "metadata": {
            "tags": []
          },
          "execution_count": 19
        }
      ]
    },
    {
      "cell_type": "code",
      "metadata": {
        "id": "3UzAejt-MqH_",
        "colab_type": "code",
        "colab": {
          "base_uri": "https://localhost:8080/",
          "height": 438
        },
        "outputId": "2ee60002-a03f-44a6-fb07-766745658d6f"
      },
      "source": [
        "ts_log_moving_avg_diff.dropna(inplace=True)\n",
        "\n",
        "ts_log_moving_avg_diff.head(12)"
      ],
      "execution_count": 20,
      "outputs": [
        {
          "output_type": "execute_result",
          "data": {
            "text/html": [
              "<div>\n",
              "<style scoped>\n",
              "    .dataframe tbody tr th:only-of-type {\n",
              "        vertical-align: middle;\n",
              "    }\n",
              "\n",
              "    .dataframe tbody tr th {\n",
              "        vertical-align: top;\n",
              "    }\n",
              "\n",
              "    .dataframe thead th {\n",
              "        text-align: right;\n",
              "    }\n",
              "</style>\n",
              "<table border=\"1\" class=\"dataframe\">\n",
              "  <thead>\n",
              "    <tr style=\"text-align: right;\">\n",
              "      <th></th>\n",
              "      <th>% On-Time Gate Arrivals</th>\n",
              "    </tr>\n",
              "    <tr>\n",
              "      <th>Date</th>\n",
              "      <th></th>\n",
              "    </tr>\n",
              "  </thead>\n",
              "  <tbody>\n",
              "    <tr>\n",
              "      <th>2019-06-01 16:00:00</th>\n",
              "      <td>-0.033129</td>\n",
              "    </tr>\n",
              "    <tr>\n",
              "      <th>2019-06-01 17:00:00</th>\n",
              "      <td>-0.169392</td>\n",
              "    </tr>\n",
              "    <tr>\n",
              "      <th>2019-06-01 18:00:00</th>\n",
              "      <td>-0.182305</td>\n",
              "    </tr>\n",
              "    <tr>\n",
              "      <th>2019-06-01 19:00:00</th>\n",
              "      <td>-0.090612</td>\n",
              "    </tr>\n",
              "    <tr>\n",
              "      <th>2019-06-01 20:00:00</th>\n",
              "      <td>-0.335955</td>\n",
              "    </tr>\n",
              "    <tr>\n",
              "      <th>2019-06-01 21:00:00</th>\n",
              "      <td>-0.099133</td>\n",
              "    </tr>\n",
              "    <tr>\n",
              "      <th>2019-06-01 22:00:00</th>\n",
              "      <td>-0.028597</td>\n",
              "    </tr>\n",
              "    <tr>\n",
              "      <th>2019-06-01 23:00:00</th>\n",
              "      <td>-0.221266</td>\n",
              "    </tr>\n",
              "    <tr>\n",
              "      <th>2019-06-02 00:00:00</th>\n",
              "      <td>-0.302541</td>\n",
              "    </tr>\n",
              "    <tr>\n",
              "      <th>2019-06-02 01:00:00</th>\n",
              "      <td>-0.263374</td>\n",
              "    </tr>\n",
              "    <tr>\n",
              "      <th>2019-06-02 02:00:00</th>\n",
              "      <td>-0.221210</td>\n",
              "    </tr>\n",
              "    <tr>\n",
              "      <th>2019-06-02 15:00:00</th>\n",
              "      <td>-0.129107</td>\n",
              "    </tr>\n",
              "  </tbody>\n",
              "</table>\n",
              "</div>"
            ],
            "text/plain": [
              "                     % On-Time Gate Arrivals\n",
              "Date                                        \n",
              "2019-06-01 16:00:00                -0.033129\n",
              "2019-06-01 17:00:00                -0.169392\n",
              "2019-06-01 18:00:00                -0.182305\n",
              "2019-06-01 19:00:00                -0.090612\n",
              "2019-06-01 20:00:00                -0.335955\n",
              "2019-06-01 21:00:00                -0.099133\n",
              "2019-06-01 22:00:00                -0.028597\n",
              "2019-06-01 23:00:00                -0.221266\n",
              "2019-06-02 00:00:00                -0.302541\n",
              "2019-06-02 01:00:00                -0.263374\n",
              "2019-06-02 02:00:00                -0.221210\n",
              "2019-06-02 15:00:00                -0.129107"
            ]
          },
          "metadata": {
            "tags": []
          },
          "execution_count": 20
        }
      ]
    },
    {
      "cell_type": "code",
      "metadata": {
        "id": "01QoPxUiMqIF",
        "colab_type": "code",
        "colab": {
          "base_uri": "https://localhost:8080/",
          "height": 281
        },
        "outputId": "b1f08787-ab01-4f5e-e001-3c12258e14fb"
      },
      "source": [
        "test_stationarity(ts_log_moving_avg_diff)"
      ],
      "execution_count": 21,
      "outputs": [
        {
          "output_type": "display_data",
          "data": {
            "image/png": "[encoded data removed]",
            "text/plain": [
              "<Figure size 432x288 with 1 Axes>"
            ]
          },
          "metadata": {
            "tags": [],
            "needs_background": "light"
          }
        }
      ]
    },
    {
      "cell_type": "code",
      "metadata": {
        "id": "C3ZQBVNCMqIL",
        "colab_type": "code",
        "colab": {
          "base_uri": "https://localhost:8080/",
          "height": 283
        },
        "outputId": "2c241a76-59d9-4c29-a893-da3bfa59b178"
      },
      "source": [
        "# Seasonality with trends\n",
        "#Take the first difference:\n",
        "ts_log_diff = ts_log - ts_log.shift()\n",
        "plt.plot(ts_log_diff)"
      ],
      "execution_count": 22,
      "outputs": [
        {
          "output_type": "execute_result",
          "data": {
            "text/plain": [
              "[<matplotlib.lines.Line2D at 0x7f1cf4d093c8>]"
            ]
          },
          "metadata": {
            "tags": []
          },
          "execution_count": 22
        },
        {
          "output_type": "display_data",
          "data": {
            "image/png": "[encoded data removed]",
            "text/plain": [
              "<Figure size 432x288 with 1 Axes>"
            ]
          },
          "metadata": {
            "tags": [],
            "needs_background": "light"
          }
        }
      ]
    },
    {
      "cell_type": "code",
      "metadata": {
        "id": "PZTKXB7bMqIR",
        "colab_type": "code",
        "colab": {
          "base_uri": "https://localhost:8080/",
          "height": 72
        },
        "outputId": "397ba1bf-2019-4802-d16c-9c04a5dc7bec"
      },
      "source": [
        "from pandas import concat\n",
        "dataframe = concat([ts_log_diff.shift(1), ts_log_diff], axis=1)\n",
        "dataframe.columns = ['t-1', 't+1']\n",
        "result = dataframe.corr()\n",
        "print(result)"
      ],
      "execution_count": 23,
      "outputs": [
        {
          "output_type": "stream",
          "text": [
            "          t-1       t+1\n",
            "t-1  1.000000 -0.335617\n",
            "t+1 -0.335617  1.000000\n"
          ],
          "name": "stdout"
        }
      ]
    },
    {
      "cell_type": "code",
      "metadata": {
        "id": "oRBneGxaMqIW",
        "colab_type": "code",
        "colab": {
          "base_uri": "https://localhost:8080/",
          "height": 371
        },
        "outputId": "508cbcfc-526a-45b8-cf39-79aad2af5458"
      },
      "source": [
        "from matplotlib import pyplot\n",
        "from pandas.tools.plotting import autocorrelation_plot\n",
        "autocorrelation_plot(ts)\n",
        "pyplot.show()"
      ],
      "execution_count": 24,
      "outputs": [
        {
          "output_type": "error",
          "ename": "ModuleNotFoundError",
          "evalue": "ignored",
          "traceback": [
            "\u001b[0;31m---------------------------------------------------------------------------\u001b[0m",
            "\u001b[0;31mModuleNotFoundError\u001b[0m                       Traceback (most recent call last)",
            "\u001b[0;32m<ipython-input-24-f82a122a63cd>\u001b[0m in \u001b[0;36m<module>\u001b[0;34m()\u001b[0m\n\u001b[1;32m      1\u001b[0m \u001b[0;32mfrom\u001b[0m \u001b[0mmatplotlib\u001b[0m \u001b[0;32mimport\u001b[0m \u001b[0mpyplot\u001b[0m\u001b[0;34m\u001b[0m\u001b[0;34m\u001b[0m\u001b[0m\n\u001b[0;32m----> 2\u001b[0;31m \u001b[0;32mfrom\u001b[0m \u001b[0mpandas\u001b[0m\u001b[0;34m.\u001b[0m\u001b[0mtools\u001b[0m\u001b[0;34m.\u001b[0m\u001b[0mplotting\u001b[0m \u001b[0;32mimport\u001b[0m \u001b[0mautocorrelation_plot\u001b[0m\u001b[0;34m\u001b[0m\u001b[0;34m\u001b[0m\u001b[0m\n\u001b[0m\u001b[1;32m      3\u001b[0m \u001b[0mautocorrelation_plot\u001b[0m\u001b[0;34m(\u001b[0m\u001b[0mts\u001b[0m\u001b[0;34m)\u001b[0m\u001b[0;34m\u001b[0m\u001b[0;34m\u001b[0m\u001b[0m\n\u001b[1;32m      4\u001b[0m \u001b[0mpyplot\u001b[0m\u001b[0;34m.\u001b[0m\u001b[0mshow\u001b[0m\u001b[0;34m(\u001b[0m\u001b[0;34m)\u001b[0m\u001b[0;34m\u001b[0m\u001b[0;34m\u001b[0m\u001b[0m\n",
            "\u001b[0;31mModuleNotFoundError\u001b[0m: No module named 'pandas.tools'",
            "",
            "\u001b[0;31m---------------------------------------------------------------------------\u001b[0;32m\nNOTE: If your import is failing due to a missing package, you can\nmanually install dependencies using either !pip or !apt.\n\nTo view examples of installing some common dependencies, click the\n\"Open Examples\" button below.\n\u001b[0;31m---------------------------------------------------------------------------\u001b[0m\n"
          ]
        }
      ]
    },
    {
      "cell_type": "code",
      "metadata": {
        "id": "A1ouWZNqMqId",
        "colab_type": "code",
        "colab": {}
      },
      "source": [
        "from pandas import Series\n",
        "from pandas import DataFrame\n",
        "from pandas import concat\n",
        "from matplotlib import pyplot\n",
        "from sklearn.metrics import mean_squared_error\n",
        "\n",
        "\n",
        "dataframe = concat([ts.shift(1), ts], axis=1)\n",
        "dataframe.columns = ['t-1', 't+1']\n",
        "# split into train and test sets\n",
        "X = dataframe.values\n",
        "train, test = X[1:len(X)-7], X[len(X)-7:]\n",
        "train_X, train_y = train[:,0], train[:,1]\n",
        "test_X, test_y = test[:,0], test[:,1]\n",
        "# persistence model\n",
        "def model_persistence(x):\n",
        "    return x\n",
        "\n",
        "# walk-forward validation\n",
        "predictions = list()\n",
        "for x in test_X:\n",
        "    yhat = model_persistence(x)\n",
        "    predictions.append(yhat)\n",
        "\n",
        "test_score = mean_squared_error(test_y, predictions)\n",
        "print('Test MSE: %.3f' % test_score)\n",
        "# plot predictions vs expected\n",
        "pyplot.plot(test_y)\n",
        "pyplot.plot(predictions, color='red')\n",
        "pyplot.show()"
      ],
      "execution_count": null,
      "outputs": []
    },
    {
      "cell_type": "code",
      "metadata": {
        "id": "7WLvpdAwMqIj",
        "colab_type": "code",
        "colab": {}
      },
      "source": [
        "from pandas import Series\n",
        "from matplotlib import pyplot\n",
        "from statsmodels.tsa.ar_model import AR\n",
        "from sklearn.metrics import mean_squared_error\n",
        "\n",
        "# split dataset\n",
        "X = ts['% On-Time Gate Arrivals'].values\n",
        "train, test = X[1:len(X)-200], X[len(X)-200:]\n",
        "# train autoregression\n",
        "model = AR(train)\n",
        "model_fit = model.fit()\n",
        "print('Lag: %s' % model_fit.k_ar)\n",
        "print('Coefficients: %s' % model_fit.params)\n",
        "# make predictions\n",
        "predictions = model_fit.predict(start=len(train), end=len(train)+len(test)-1, dynamic=False)\n",
        "for i in range(len(predictions)):\n",
        "    print('predicted=%f, expected=%f' % (predictions[i], test[i]))\n",
        "\n",
        "error = mean_squared_error(test, predictions)\n",
        "print('Test MSE: %.3f' % error)\n",
        "# plot results\n",
        "pyplot.plot(test)\n",
        "pyplot.plot(predictions, color='red')\n",
        "pyplot.show()"
      ],
      "execution_count": null,
      "outputs": []
    },
    {
      "cell_type": "code",
      "metadata": {
        "id": "jphlc17oMqIq",
        "colab_type": "code",
        "colab": {}
      },
      "source": [
        "from statsmodels.graphics.tsaplots import plot_acf\n",
        "plot_acf(ts)"
      ],
      "execution_count": null,
      "outputs": []
    },
    {
      "cell_type": "code",
      "metadata": {
        "id": "Xv-wwB_iMqIx",
        "colab_type": "code",
        "colab": {}
      },
      "source": [
        "from statsmodels.tsa.stattools import adfuller\n",
        "test_result=adfuller(ts['% On-Time Gate Arrivals'])"
      ],
      "execution_count": null,
      "outputs": []
    },
    {
      "cell_type": "code",
      "metadata": {
        "id": "15kaT4oeMqI1",
        "colab_type": "code",
        "colab": {}
      },
      "source": [
        "test_result"
      ],
      "execution_count": null,
      "outputs": []
    },
    {
      "cell_type": "code",
      "metadata": {
        "id": "TGGlOBQaMqI6",
        "colab_type": "code",
        "colab": {}
      },
      "source": [
        "ts.shift(1)\n",
        "ts_diff = ts.diff(periods=1)\n",
        "ts_diff.head()"
      ],
      "execution_count": null,
      "outputs": []
    },
    {
      "cell_type": "code",
      "metadata": {
        "id": "zsckecVqMqJA",
        "colab_type": "code",
        "colab": {}
      },
      "source": [
        "\n",
        "ts_diff = ts_diff.dropna()\n",
        "plot_acf(ts_diff)"
      ],
      "execution_count": null,
      "outputs": []
    },
    {
      "cell_type": "code",
      "metadata": {
        "id": "qIDc0741MqJI",
        "colab_type": "code",
        "colab": {}
      },
      "source": [
        "X = ts_diff.values\n",
        "train = X[0:1100] # 27 data as train data\n",
        "test = X[1100:]\n",
        "predictions = []"
      ],
      "execution_count": null,
      "outputs": []
    },
    {
      "cell_type": "code",
      "metadata": {
        "id": "oUIf2AK2MqJP",
        "colab_type": "code",
        "colab": {}
      },
      "source": [
        "from statsmodels.tsa.arima_model import ARIMA\n",
        "from sklearn.metrics import mean_squared_error\n",
        "model_arima = ARIMA(train, (1,1,1))\n",
        "model_arima_fit = model_arima.fit()\n",
        "predictions = model_arima_fit.predict(start=1100, end=1100 + len(test))\n",
        "plt.plot(test)\n",
        "plt.plot(predictions,color='red')"
      ],
      "execution_count": null,
      "outputs": []
    },
    {
      "cell_type": "code",
      "metadata": {
        "id": "GorLuPT-MqJY",
        "colab_type": "code",
        "colab": {}
      },
      "source": [
        "from statsmodels.tsa.arima_model import ARIMA\n",
        "from sklearn.metrics import mean_squared_error\n",
        "\n",
        "X = ts.values\n",
        "size = int(len(X) * 0.66)\n",
        "train, test = X[0:size], X[size:size + 100]\n",
        "history = [x for x in train]\n",
        "predictions = list()\n",
        "\n",
        "for t in range(len(test)):\n",
        "    model = ARIMA(history, order=(5,1,1))\n",
        "    model_fit = model.fit(disp=0)\n",
        "    output = model_fit.forecast()\n",
        "    yhat = output[0]\n",
        "    predictions.append(yhat)\n",
        "    obs = test[t]\n",
        "    history.append(obs)\n",
        "    print('predicted=%f, expected=%f' % (yhat, obs))\n",
        "error = mean_squared_error(test, predictions)\n",
        "print('Test MSE: %.3f' % error)\n",
        "# plot\n",
        "pyplot.plot(test)\n",
        "pyplot.plot(predictions, color='red')\n",
        "pyplot.show()"
      ],
      "execution_count": null,
      "outputs": []
    },
    {
      "cell_type": "code",
      "metadata": {
        "id": "gzfkpqwQMqJd",
        "colab_type": "code",
        "colab": {}
      },
      "source": [
        "rolling_mean = ts.rolling(window = 200).mean()\n",
        "rolling_std = ts.rolling(window = 200).std()\n",
        "plt.plot(ts, color = 'blue', label = 'Original')\n",
        "plt.plot(rolling_mean, color = 'red', label = 'Rolling Mean')\n",
        "plt.plot(rolling_std, color = 'black', label = 'Rolling Std')\n",
        "plt.legend(loc = 'best')\n",
        "plt.title('Rolling Mean & Rolling Standard Deviation')\n",
        "plt.show()"
      ],
      "execution_count": null,
      "outputs": []
    },
    {
      "cell_type": "code",
      "metadata": {
        "id": "s43yeWuoMqJj",
        "colab_type": "code",
        "colab": {}
      },
      "source": [
        "result = adfuller(ts['% On-Time Gate Arrivals'])\n",
        "print('ADF Statistic: {}'.format(result[0]))\n",
        "print('p-value: {}'.format(result[1]))\n",
        "print('Critical Values:')\n",
        "for key, value in result[4].items():\n",
        "    print('\\t{}: {}'.format(key, value))"
      ],
      "execution_count": null,
      "outputs": []
    },
    {
      "cell_type": "code",
      "metadata": {
        "id": "7WauNPDqMqJo",
        "colab_type": "code",
        "colab": {}
      },
      "source": [
        "ts.count()"
      ],
      "execution_count": null,
      "outputs": []
    },
    {
      "cell_type": "code",
      "metadata": {
        "id": "5oCy4dcyMqJv",
        "colab_type": "code",
        "colab": {}
      },
      "source": [
        "from statsmodels.tsa.arima_model import ARIMA\n",
        "from sklearn.metrics import mean_squared_error\n",
        "import matplotlib.pyplot as plt\n",
        "%matplotlib inline\n",
        "\n",
        "X = ts.values\n",
        "size = int(len(X) * 0.66)\n",
        "train, test = X[0:size], X[size:]\n",
        "history = [x for x in train]\n",
        "predictions = list()\n",
        "\n",
        "for t in range(len(test)):\n",
        "    model = ARIMA(history, order=(2,1,1))\n",
        "    model_fit = model.fit(disp=0)\n",
        "    output = model_fit.forecast()\n",
        "    yhat = output[0]\n",
        "    predictions.append(yhat)\n",
        "    obs = test[t]\n",
        "    history.append(obs)\n",
        "    print('predicted=%f, expected=%f' % (yhat, obs))\n",
        "error = mean_squared_error(test, predictions)\n",
        "print('Test MSE: %.3f' % error)\n",
        "# plot\n",
        "pyplot.plot(test, color='blue', label='Actual')\n",
        "pyplot.plot(predictions, color='red', label='Prediction')\n",
        "pyplot.xlabel('Hours')\n",
        "pyplot.ylabel('On-Time Gate Arrival %')\n",
        "pyplot.show()"
      ],
      "execution_count": null,
      "outputs": []
    },
    {
      "cell_type": "code",
      "metadata": {
        "id": "SIMZnix6MqJ0",
        "colab_type": "code",
        "colab": {}
      },
      "source": [
        "from statsmodels.tsa.arima_model import ARIMA\n",
        "from sklearn.metrics import mean_squared_error\n",
        "\n",
        "X = ts.values\n",
        "size = int(len(X) * 0.66)\n",
        "train, test = X[0:size], X[size:size + 100]\n",
        "history = [x for x in train]\n",
        "predictions = list()\n",
        "\n",
        "for t in range(len(test)):\n",
        "    model = ARIMA(history, order=(1,1,1))\n",
        "    model_fit = model.fit(disp=0)\n",
        "    output = model_fit.forecast()\n",
        "    yhat = output[0]\n",
        "    predictions.append(yhat)\n",
        "    obs = test[t]\n",
        "    history.append(obs)\n",
        "    print('predicted=%f, expected=%f' % (yhat, obs))\n",
        "error = mean_squared_error(test, predictions)\n",
        "print('Test MSE: %.3f' % error)\n",
        "# plot\n",
        "pyplot.plot(test)\n",
        "pyplot.plot(predictions, color='red')\n",
        "pyplot.show()"
      ],
      "execution_count": null,
      "outputs": []
    },
    {
      "cell_type": "code",
      "metadata": {
        "id": "mcyPB6jdMqJ5",
        "colab_type": "code",
        "colab": {}
      },
      "source": [
        ""
      ],
      "execution_count": null,
      "outputs": []
    }
  ]
}